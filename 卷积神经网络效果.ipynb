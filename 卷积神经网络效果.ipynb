{
  "nbformat": 4,
  "nbformat_minor": 0,
  "metadata": {
    "colab": {
      "provenance": [],
      "authorship_tag": "ABX9TyPLPOcc6vEIGWBg/2LCSBkT",
      "include_colab_link": true
    },
    "kernelspec": {
      "name": "python3",
      "display_name": "Python 3"
    },
    "language_info": {
      "name": "python"
    }
  },
  "cells": [
    {
      "cell_type": "markdown",
      "metadata": {
        "id": "view-in-github",
        "colab_type": "text"
      },
      "source": [
        "<a href=\"https://colab.research.google.com/github/longx-ai/ai-study/blob/main/%E5%8D%B7%E7%A7%AF%E7%A5%9E%E7%BB%8F%E7%BD%91%E7%BB%9C%E6%95%88%E6%9E%9C.ipynb\" target=\"_parent\"><img src=\"https://colab.research.google.com/assets/colab-badge.svg\" alt=\"Open In Colab\"/></a>"
      ]
    },
    {
      "cell_type": "code",
      "execution_count": 1,
      "metadata": {
        "id": "S4AtxQVOtbnK"
      },
      "outputs": [],
      "source": [
        "import torch\n",
        "import torch.nn as nn\n",
        "import torch.optim as optim\n",
        "import torch.nn.functional as F\n",
        "from torchvision import datasets,transforms \n",
        "import matplotlib.pyplot as plt\n",
        "import numpy as np\n",
        "%matplotlib inline"
      ]
    },
    {
      "cell_type": "code",
      "source": [
        "# 定义超参数 \n",
        "input_size = 28  #图像的总尺寸28*28\n",
        "num_classes = 10  #标签的种类数\n",
        "num_epochs = 3  #训练的总循环周期\n",
        "batch_size = 64  #一个撮（批次）的大小，64张图片\n",
        "\n",
        "# 训练集\n",
        "train_dataset = datasets.MNIST(root='./data',  \n",
        "                            train=True,   \n",
        "                            transform=transforms.ToTensor(),  \n",
        "                            download=True) \n",
        "\n",
        "# 测试集\n",
        "test_dataset = datasets.MNIST(root='./data', \n",
        "                           train=False, \n",
        "                           transform=transforms.ToTensor())\n",
        "\n",
        "# 构建batch数据\n",
        "train_loader = torch.utils.data.DataLoader(dataset=train_dataset, \n",
        "                                           batch_size=batch_size, \n",
        "                                           shuffle=True)\n",
        "test_loader = torch.utils.data.DataLoader(dataset=test_dataset, \n",
        "                                           batch_size=batch_size, \n",
        "                                           shuffle=True)"
      ],
      "metadata": {
        "colab": {
          "base_uri": "https://localhost:8080/"
        },
        "id": "zFUkmr8SurFm",
        "outputId": "78e3789b-41b1-4027-ffd3-cfff9d3f955b"
      },
      "execution_count": 2,
      "outputs": [
        {
          "output_type": "stream",
          "name": "stdout",
          "text": [
            "Downloading http://yann.lecun.com/exdb/mnist/train-images-idx3-ubyte.gz\n",
            "Downloading http://yann.lecun.com/exdb/mnist/train-images-idx3-ubyte.gz to ./data/MNIST/raw/train-images-idx3-ubyte.gz\n"
          ]
        },
        {
          "output_type": "stream",
          "name": "stderr",
          "text": [
            "100%|██████████| 9912422/9912422 [00:00<00:00, 95395644.21it/s]\n"
          ]
        },
        {
          "output_type": "stream",
          "name": "stdout",
          "text": [
            "Extracting ./data/MNIST/raw/train-images-idx3-ubyte.gz to ./data/MNIST/raw\n",
            "\n",
            "Downloading http://yann.lecun.com/exdb/mnist/train-labels-idx1-ubyte.gz\n",
            "Downloading http://yann.lecun.com/exdb/mnist/train-labels-idx1-ubyte.gz to ./data/MNIST/raw/train-labels-idx1-ubyte.gz\n"
          ]
        },
        {
          "output_type": "stream",
          "name": "stderr",
          "text": [
            "100%|██████████| 28881/28881 [00:00<00:00, 30980995.86it/s]\n"
          ]
        },
        {
          "output_type": "stream",
          "name": "stdout",
          "text": [
            "Extracting ./data/MNIST/raw/train-labels-idx1-ubyte.gz to ./data/MNIST/raw\n",
            "\n",
            "Downloading http://yann.lecun.com/exdb/mnist/t10k-images-idx3-ubyte.gz\n",
            "Downloading http://yann.lecun.com/exdb/mnist/t10k-images-idx3-ubyte.gz to ./data/MNIST/raw/t10k-images-idx3-ubyte.gz\n"
          ]
        },
        {
          "output_type": "stream",
          "name": "stderr",
          "text": [
            "100%|██████████| 1648877/1648877 [00:00<00:00, 25387430.15it/s]\n"
          ]
        },
        {
          "output_type": "stream",
          "name": "stdout",
          "text": [
            "Extracting ./data/MNIST/raw/t10k-images-idx3-ubyte.gz to ./data/MNIST/raw\n",
            "\n",
            "Downloading http://yann.lecun.com/exdb/mnist/t10k-labels-idx1-ubyte.gz\n",
            "Downloading http://yann.lecun.com/exdb/mnist/t10k-labels-idx1-ubyte.gz to ./data/MNIST/raw/t10k-labels-idx1-ubyte.gz\n"
          ]
        },
        {
          "output_type": "stream",
          "name": "stderr",
          "text": [
            "100%|██████████| 4542/4542 [00:00<00:00, 10214760.73it/s]\n"
          ]
        },
        {
          "output_type": "stream",
          "name": "stdout",
          "text": [
            "Extracting ./data/MNIST/raw/t10k-labels-idx1-ubyte.gz to ./data/MNIST/raw\n",
            "\n"
          ]
        }
      ]
    },
    {
      "cell_type": "code",
      "source": [
        "class CNN(nn.Module):\n",
        "    def __init__(self):\n",
        "        super(CNN, self).__init__()\n",
        "        self.conv1 = nn.Sequential(         # 输入大小 (1, 28, 28)\n",
        "            nn.Conv2d(\n",
        "                in_channels=1,              # 灰度图\n",
        "                out_channels=16,            # 要得到几多少个特征图\n",
        "                kernel_size=5,              # 卷积核大小\n",
        "                stride=1,                   # 步长\n",
        "                padding=2,                  # 如果希望卷积后大小跟原来一样，需要设置padding=(kernel_size-1)/2 if stride=1\n",
        "            ),                              # 输出的特征图为 (16, 28, 28)\n",
        "            nn.ReLU(),                      # relu层\n",
        "            nn.MaxPool2d(kernel_size=2),    # 进行池化操作（2x2 区域）, 输出结果为： (16, 14, 14)\n",
        "        )\n",
        "        self.conv2 = nn.Sequential(         # 下一个套餐的输入 (16, 14, 14)\n",
        "            nn.Conv2d(16, 32, 5, 1, 2),     # 输出 (32, 14, 14)\n",
        "            nn.ReLU(),                      # relu层\n",
        "            nn.Conv2d(32, 32, 5, 1, 2),\n",
        "            nn.ReLU(),\n",
        "            nn.MaxPool2d(2),                # 输出 (32, 7, 7)\n",
        "        )\n",
        "        \n",
        "        self.conv3 = nn.Sequential(         # 下一个套餐的输入 (16, 14, 14)\n",
        "            nn.Conv2d(32, 64, 5, 1, 2),     # 输出 (32, 14, 14)\n",
        "            nn.ReLU(),             # 输出 (32, 7, 7)\n",
        "        )\n",
        "        \n",
        "        self.out = nn.Linear(64 * 7 * 7, 10)   # 全连接层得到的结果\n",
        "\n",
        "    def forward(self, x):\n",
        "        x = self.conv1(x)\n",
        "        x = self.conv2(x)\n",
        "        x = self.conv3(x)\n",
        "        x = x.view(x.size(0), -1)           # flatten操作，结果为：(batch_size, 32 * 7 * 7)\n",
        "        output = self.out(x)\n",
        "        return output"
      ],
      "metadata": {
        "id": "-ljdwEFjut8q"
      },
      "execution_count": 3,
      "outputs": []
    },
    {
      "cell_type": "code",
      "source": [
        "def accuracy(predictions, labels):\n",
        "    pred = torch.max(predictions.data, 1)[1] \n",
        "    rights = pred.eq(labels.data.view_as(pred)).sum() \n",
        "    return rights, len(labels) "
      ],
      "metadata": {
        "id": "4rtJOmVxuygE"
      },
      "execution_count": 4,
      "outputs": []
    },
    {
      "cell_type": "code",
      "source": [
        "# 实例化\n",
        "net = CNN() \n",
        "#损失函数\n",
        "criterion = nn.CrossEntropyLoss() \n",
        "#优化器\n",
        "optimizer = optim.Adam(net.parameters(), lr=0.001) #定义优化器，普通的随机梯度下降算法\n",
        "\n",
        "#开始训练循环\n",
        "for epoch in range(num_epochs):\n",
        "    #当前epoch的结果保存下来\n",
        "    train_rights = [] \n",
        "    \n",
        "    for batch_idx, (data, target) in enumerate(train_loader):  #针对容器中的每一个批进行循环\n",
        "        net.train()                             \n",
        "        output = net(data) \n",
        "        loss = criterion(output, target) \n",
        "        optimizer.zero_grad() \n",
        "        loss.backward() \n",
        "        optimizer.step() \n",
        "        right = accuracy(output, target) \n",
        "        train_rights.append(right) \n",
        "\n",
        "    \n",
        "        if batch_idx % 100 == 0: \n",
        "            \n",
        "            net.eval() \n",
        "            val_rights = [] \n",
        "            \n",
        "            for (data, target) in test_loader:\n",
        "                output = net(data) \n",
        "                right = accuracy(output, target) \n",
        "                val_rights.append(right)\n",
        "                \n",
        "            #准确率计算\n",
        "            train_r = (sum([tup[0] for tup in train_rights]), sum([tup[1] for tup in train_rights]))\n",
        "            val_r = (sum([tup[0] for tup in val_rights]), sum([tup[1] for tup in val_rights]))\n",
        "\n",
        "            print('当前epoch: {} [{}/{} ({:.0f}%)]\\t损失: {:.6f}\\t训练集准确率: {:.2f}%\\t测试集正确率: {:.2f}%'.format(\n",
        "                epoch, batch_idx * batch_size, len(train_loader.dataset),\n",
        "                100. * batch_idx / len(train_loader), \n",
        "                loss.data, \n",
        "                100. * train_r[0].numpy() / train_r[1], \n",
        "                100. * val_r[0].numpy() / val_r[1]))"
      ],
      "metadata": {
        "colab": {
          "base_uri": "https://localhost:8080/"
        },
        "id": "YQsBxhfVu1VV",
        "outputId": "49d33447-c12b-49c9-8468-c8968611126d"
      },
      "execution_count": null,
      "outputs": [
        {
          "output_type": "stream",
          "name": "stdout",
          "text": [
            "当前epoch: 0 [0/60000 (0%)]\t损失: 2.303091\t训练集准确率: 4.69%\t测试集正确率: 14.79%\n",
            "当前epoch: 0 [6400/60000 (11%)]\t损失: 0.398657\t训练集准确率: 80.43%\t测试集正确率: 94.73%\n",
            "当前epoch: 0 [12800/60000 (21%)]\t损失: 0.069252\t训练集准确率: 87.38%\t测试集正确率: 96.61%\n",
            "当前epoch: 0 [19200/60000 (32%)]\t损失: 0.130596\t训练集准确率: 90.23%\t测试集正确率: 96.72%\n",
            "当前epoch: 0 [25600/60000 (43%)]\t损失: 0.083525\t训练集准确率: 92.00%\t测试集正确率: 97.08%\n",
            "当前epoch: 0 [32000/60000 (53%)]\t损失: 0.035884\t训练集准确率: 93.09%\t测试集正确率: 98.03%\n",
            "当前epoch: 0 [38400/60000 (64%)]\t损失: 0.108017\t训练集准确率: 93.89%\t测试集正确率: 98.36%\n",
            "当前epoch: 0 [44800/60000 (75%)]\t损失: 0.029833\t训练集准确率: 94.43%\t测试集正确率: 97.75%\n",
            "当前epoch: 0 [51200/60000 (85%)]\t损失: 0.009730\t训练集准确率: 94.90%\t测试集正确率: 98.27%\n",
            "当前epoch: 0 [57600/60000 (96%)]\t损失: 0.066471\t训练集准确率: 95.25%\t测试集正确率: 98.68%\n",
            "当前epoch: 1 [0/60000 (0%)]\t损失: 0.186573\t训练集准确率: 93.75%\t测试集正确率: 98.54%\n",
            "当前epoch: 1 [6400/60000 (11%)]\t损失: 0.016863\t训练集准确率: 98.69%\t测试集正确率: 98.24%\n",
            "当前epoch: 1 [12800/60000 (21%)]\t损失: 0.050221\t训练集准确率: 98.59%\t测试集正确率: 98.78%\n",
            "当前epoch: 1 [19200/60000 (32%)]\t损失: 0.008540\t训练集准确率: 98.66%\t测试集正确率: 98.60%\n",
            "当前epoch: 1 [25600/60000 (43%)]\t损失: 0.023011\t训练集准确率: 98.61%\t测试集正确率: 98.84%\n",
            "当前epoch: 1 [32000/60000 (53%)]\t损失: 0.171227\t训练集准确率: 98.59%\t测试集正确率: 98.98%\n",
            "当前epoch: 1 [38400/60000 (64%)]\t损失: 0.006997\t训练集准确率: 98.63%\t测试集正确率: 98.82%\n",
            "当前epoch: 1 [44800/60000 (75%)]\t损失: 0.212709\t训练集准确率: 98.60%\t测试集正确率: 98.81%\n",
            "当前epoch: 1 [51200/60000 (85%)]\t损失: 0.011098\t训练集准确率: 98.65%\t测试集正确率: 98.85%\n",
            "当前epoch: 1 [57600/60000 (96%)]\t损失: 0.009281\t训练集准确率: 98.69%\t测试集正确率: 98.70%\n",
            "当前epoch: 2 [0/60000 (0%)]\t损失: 0.004580\t训练集准确率: 100.00%\t测试集正确率: 98.83%\n"
          ]
        }
      ]
    }
  ]
}